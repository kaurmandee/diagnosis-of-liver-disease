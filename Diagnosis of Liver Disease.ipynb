{
  "nbformat": 4,
  "nbformat_minor": 0,
  "metadata": {
    "colab": {
      "provenance": []
    },
    "kernelspec": {
      "name": "python3",
      "display_name": "Python 3"
    },
    "language_info": {
      "name": "python"
    }
  },
  "cells": [
    {
      "cell_type": "markdown",
      "source": [
        "### Installing required packages\n",
        "Restart the notebook after installation"
      ],
      "metadata": {
        "id": "fX55jn8_AvMj"
      }
    },
    {
      "cell_type": "code",
      "source": [
        "!pip install sklearn-genetic-opt\n",
        "!pip install pyswarm\n",
        "!pip install scikit-optimize"
      ],
      "metadata": {
        "colab": {
          "base_uri": "https://localhost:8080/"
        },
        "id": "GXwu7yhxCieT",
        "outputId": "7efd2788-f559-4800-e310-0ba127165308"
      },
      "execution_count": 1,
      "outputs": [
        {
          "output_type": "stream",
          "name": "stdout",
          "text": [
            "Looking in indexes: https://pypi.org/simple, https://us-python.pkg.dev/colab-wheels/public/simple/\n",
            "Requirement already satisfied: sklearn-genetic-opt in /usr/local/lib/python3.10/dist-packages (0.10.1)\n",
            "Requirement already satisfied: deap>=1.3.3 in /usr/local/lib/python3.10/dist-packages (from sklearn-genetic-opt) (1.3.3)\n",
            "Requirement already satisfied: scikit-learn>=1.1.0 in /usr/local/lib/python3.10/dist-packages (from sklearn-genetic-opt) (1.2.2)\n",
            "Requirement already satisfied: tqdm>=4.61.1 in /usr/local/lib/python3.10/dist-packages (from sklearn-genetic-opt) (4.65.0)\n",
            "Requirement already satisfied: numpy>=1.19.0 in /usr/local/lib/python3.10/dist-packages (from sklearn-genetic-opt) (1.22.4)\n",
            "Requirement already satisfied: threadpoolctl>=2.0.0 in /usr/local/lib/python3.10/dist-packages (from scikit-learn>=1.1.0->sklearn-genetic-opt) (3.1.0)\n",
            "Requirement already satisfied: scipy>=1.3.2 in /usr/local/lib/python3.10/dist-packages (from scikit-learn>=1.1.0->sklearn-genetic-opt) (1.10.1)\n",
            "Requirement already satisfied: joblib>=1.1.1 in /usr/local/lib/python3.10/dist-packages (from scikit-learn>=1.1.0->sklearn-genetic-opt) (1.2.0)\n",
            "Looking in indexes: https://pypi.org/simple, https://us-python.pkg.dev/colab-wheels/public/simple/\n",
            "Requirement already satisfied: pyswarm in /usr/local/lib/python3.10/dist-packages (0.6)\n",
            "Requirement already satisfied: numpy in /usr/local/lib/python3.10/dist-packages (from pyswarm) (1.22.4)\n",
            "Looking in indexes: https://pypi.org/simple, https://us-python.pkg.dev/colab-wheels/public/simple/\n",
            "Requirement already satisfied: scikit-optimize in /usr/local/lib/python3.10/dist-packages (0.9.0)\n",
            "Requirement already satisfied: numpy>=1.13.3 in /usr/local/lib/python3.10/dist-packages (from scikit-optimize) (1.22.4)\n",
            "Requirement already satisfied: scipy>=0.19.1 in /usr/local/lib/python3.10/dist-packages (from scikit-optimize) (1.10.1)\n",
            "Requirement already satisfied: joblib>=0.11 in /usr/local/lib/python3.10/dist-packages (from scikit-optimize) (1.2.0)\n",
            "Requirement already satisfied: pyaml>=16.9 in /usr/local/lib/python3.10/dist-packages (from scikit-optimize) (23.5.8)\n",
            "Requirement already satisfied: scikit-learn>=0.20.0 in /usr/local/lib/python3.10/dist-packages (from scikit-optimize) (1.2.2)\n",
            "Requirement already satisfied: PyYAML in /usr/local/lib/python3.10/dist-packages (from pyaml>=16.9->scikit-optimize) (6.0)\n",
            "Requirement already satisfied: threadpoolctl>=2.0.0 in /usr/local/lib/python3.10/dist-packages (from scikit-learn>=0.20.0->scikit-optimize) (3.1.0)\n"
          ]
        }
      ]
    },
    {
      "cell_type": "markdown",
      "source": [
        "### Loading Data\n",
        "#### Indian Liver Patient Dataset \n",
        "Source UCI:\n",
        "https://archive.ics.uci.edu/ml/datasets/ILPD+(Indian+Liver+Patient+Dataset)"
      ],
      "metadata": {
        "id": "-Jexqwfx97Yw"
      }
    },
    {
      "cell_type": "code",
      "source": [
        "# First connect to google drive \n",
        "from google.colab import drive\n",
        "drive.mount('/content/drive')"
      ],
      "metadata": {
        "colab": {
          "base_uri": "https://localhost:8080/"
        },
        "id": "41-XVdTyTLME",
        "outputId": "5324fccf-08f1-4aaa-bc9c-1e292a6773f9"
      },
      "execution_count": 2,
      "outputs": [
        {
          "output_type": "stream",
          "name": "stdout",
          "text": [
            "Drive already mounted at /content/drive; to attempt to forcibly remount, call drive.mount(\"/content/drive\", force_remount=True).\n"
          ]
        }
      ]
    },
    {
      "cell_type": "code",
      "execution_count": 3,
      "metadata": {
        "id": "8cz-3lzdLsul"
      },
      "outputs": [],
      "source": [
        "# Loading Indian Liver Patient Dataset \n",
        "import pandas as pd\n",
        "data = pd.read_csv('/content/drive/MyDrive/Work/Manzoor/optimization/data/Indian Liver Patient Dataset (ILPD).csv', header=None)\n",
        "data.columns = ['Age','Gender','c1','c2','c3','c4','c5','c6','c7','c8','Label']"
      ]
    },
    {
      "cell_type": "markdown",
      "source": [
        "### Data Exploration\n"
      ],
      "metadata": {
        "id": "BfH5Zr5R-BPO"
      }
    },
    {
      "cell_type": "code",
      "source": [
        "# Size of data\n",
        "data.shape"
      ],
      "metadata": {
        "colab": {
          "base_uri": "https://localhost:8080/"
        },
        "id": "T2uK0ruTUCfs",
        "outputId": "c634fad7-4a8c-4a65-e0f7-28cbac24079b"
      },
      "execution_count": 4,
      "outputs": [
        {
          "output_type": "execute_result",
          "data": {
            "text/plain": [
              "(583, 11)"
            ]
          },
          "metadata": {},
          "execution_count": 4
        }
      ]
    },
    {
      "cell_type": "code",
      "source": [
        "# Sample of data\n",
        "data.head()"
      ],
      "metadata": {
        "colab": {
          "base_uri": "https://localhost:8080/",
          "height": 206
        },
        "id": "KvhhSOLx-kgq",
        "outputId": "da8beda3-4401-4464-c557-79075fbb6738"
      },
      "execution_count": 5,
      "outputs": [
        {
          "output_type": "execute_result",
          "data": {
            "text/plain": [
              "   Age  Gender    c1   c2   c3  c4   c5   c6   c7    c8  Label\n",
              "0   65  Female   0.7  0.1  187  16   18  6.8  3.3  0.90      1\n",
              "1   62    Male  10.9  5.5  699  64  100  7.5  3.2  0.74      1\n",
              "2   62    Male   7.3  4.1  490  60   68  7.0  3.3  0.89      1\n",
              "3   58    Male   1.0  0.4  182  14   20  6.8  3.4  1.00      1\n",
              "4   72    Male   3.9  2.0  195  27   59  7.3  2.4  0.40      1"
            ],
            "text/html": [
              "\n",
              "  <div id=\"df-026301d1-aec7-4a3e-8b92-d78b07e1296b\">\n",
              "    <div class=\"colab-df-container\">\n",
              "      <div>\n",
              "<style scoped>\n",
              "    .dataframe tbody tr th:only-of-type {\n",
              "        vertical-align: middle;\n",
              "    }\n",
              "\n",
              "    .dataframe tbody tr th {\n",
              "        vertical-align: top;\n",
              "    }\n",
              "\n",
              "    .dataframe thead th {\n",
              "        text-align: right;\n",
              "    }\n",
              "</style>\n",
              "<table border=\"1\" class=\"dataframe\">\n",
              "  <thead>\n",
              "    <tr style=\"text-align: right;\">\n",
              "      <th></th>\n",
              "      <th>Age</th>\n",
              "      <th>Gender</th>\n",
              "      <th>c1</th>\n",
              "      <th>c2</th>\n",
              "      <th>c3</th>\n",
              "      <th>c4</th>\n",
              "      <th>c5</th>\n",
              "      <th>c6</th>\n",
              "      <th>c7</th>\n",
              "      <th>c8</th>\n",
              "      <th>Label</th>\n",
              "    </tr>\n",
              "  </thead>\n",
              "  <tbody>\n",
              "    <tr>\n",
              "      <th>0</th>\n",
              "      <td>65</td>\n",
              "      <td>Female</td>\n",
              "      <td>0.7</td>\n",
              "      <td>0.1</td>\n",
              "      <td>187</td>\n",
              "      <td>16</td>\n",
              "      <td>18</td>\n",
              "      <td>6.8</td>\n",
              "      <td>3.3</td>\n",
              "      <td>0.90</td>\n",
              "      <td>1</td>\n",
              "    </tr>\n",
              "    <tr>\n",
              "      <th>1</th>\n",
              "      <td>62</td>\n",
              "      <td>Male</td>\n",
              "      <td>10.9</td>\n",
              "      <td>5.5</td>\n",
              "      <td>699</td>\n",
              "      <td>64</td>\n",
              "      <td>100</td>\n",
              "      <td>7.5</td>\n",
              "      <td>3.2</td>\n",
              "      <td>0.74</td>\n",
              "      <td>1</td>\n",
              "    </tr>\n",
              "    <tr>\n",
              "      <th>2</th>\n",
              "      <td>62</td>\n",
              "      <td>Male</td>\n",
              "      <td>7.3</td>\n",
              "      <td>4.1</td>\n",
              "      <td>490</td>\n",
              "      <td>60</td>\n",
              "      <td>68</td>\n",
              "      <td>7.0</td>\n",
              "      <td>3.3</td>\n",
              "      <td>0.89</td>\n",
              "      <td>1</td>\n",
              "    </tr>\n",
              "    <tr>\n",
              "      <th>3</th>\n",
              "      <td>58</td>\n",
              "      <td>Male</td>\n",
              "      <td>1.0</td>\n",
              "      <td>0.4</td>\n",
              "      <td>182</td>\n",
              "      <td>14</td>\n",
              "      <td>20</td>\n",
              "      <td>6.8</td>\n",
              "      <td>3.4</td>\n",
              "      <td>1.00</td>\n",
              "      <td>1</td>\n",
              "    </tr>\n",
              "    <tr>\n",
              "      <th>4</th>\n",
              "      <td>72</td>\n",
              "      <td>Male</td>\n",
              "      <td>3.9</td>\n",
              "      <td>2.0</td>\n",
              "      <td>195</td>\n",
              "      <td>27</td>\n",
              "      <td>59</td>\n",
              "      <td>7.3</td>\n",
              "      <td>2.4</td>\n",
              "      <td>0.40</td>\n",
              "      <td>1</td>\n",
              "    </tr>\n",
              "  </tbody>\n",
              "</table>\n",
              "</div>\n",
              "      <button class=\"colab-df-convert\" onclick=\"convertToInteractive('df-026301d1-aec7-4a3e-8b92-d78b07e1296b')\"\n",
              "              title=\"Convert this dataframe to an interactive table.\"\n",
              "              style=\"display:none;\">\n",
              "        \n",
              "  <svg xmlns=\"http://www.w3.org/2000/svg\" height=\"24px\"viewBox=\"0 0 24 24\"\n",
              "       width=\"24px\">\n",
              "    <path d=\"M0 0h24v24H0V0z\" fill=\"none\"/>\n",
              "    <path d=\"M18.56 5.44l.94 2.06.94-2.06 2.06-.94-2.06-.94-.94-2.06-.94 2.06-2.06.94zm-11 1L8.5 8.5l.94-2.06 2.06-.94-2.06-.94L8.5 2.5l-.94 2.06-2.06.94zm10 10l.94 2.06.94-2.06 2.06-.94-2.06-.94-.94-2.06-.94 2.06-2.06.94z\"/><path d=\"M17.41 7.96l-1.37-1.37c-.4-.4-.92-.59-1.43-.59-.52 0-1.04.2-1.43.59L10.3 9.45l-7.72 7.72c-.78.78-.78 2.05 0 2.83L4 21.41c.39.39.9.59 1.41.59.51 0 1.02-.2 1.41-.59l7.78-7.78 2.81-2.81c.8-.78.8-2.07 0-2.86zM5.41 20L4 18.59l7.72-7.72 1.47 1.35L5.41 20z\"/>\n",
              "  </svg>\n",
              "      </button>\n",
              "      \n",
              "  <style>\n",
              "    .colab-df-container {\n",
              "      display:flex;\n",
              "      flex-wrap:wrap;\n",
              "      gap: 12px;\n",
              "    }\n",
              "\n",
              "    .colab-df-convert {\n",
              "      background-color: #E8F0FE;\n",
              "      border: none;\n",
              "      border-radius: 50%;\n",
              "      cursor: pointer;\n",
              "      display: none;\n",
              "      fill: #1967D2;\n",
              "      height: 32px;\n",
              "      padding: 0 0 0 0;\n",
              "      width: 32px;\n",
              "    }\n",
              "\n",
              "    .colab-df-convert:hover {\n",
              "      background-color: #E2EBFA;\n",
              "      box-shadow: 0px 1px 2px rgba(60, 64, 67, 0.3), 0px 1px 3px 1px rgba(60, 64, 67, 0.15);\n",
              "      fill: #174EA6;\n",
              "    }\n",
              "\n",
              "    [theme=dark] .colab-df-convert {\n",
              "      background-color: #3B4455;\n",
              "      fill: #D2E3FC;\n",
              "    }\n",
              "\n",
              "    [theme=dark] .colab-df-convert:hover {\n",
              "      background-color: #434B5C;\n",
              "      box-shadow: 0px 1px 3px 1px rgba(0, 0, 0, 0.15);\n",
              "      filter: drop-shadow(0px 1px 2px rgba(0, 0, 0, 0.3));\n",
              "      fill: #FFFFFF;\n",
              "    }\n",
              "  </style>\n",
              "\n",
              "      <script>\n",
              "        const buttonEl =\n",
              "          document.querySelector('#df-026301d1-aec7-4a3e-8b92-d78b07e1296b button.colab-df-convert');\n",
              "        buttonEl.style.display =\n",
              "          google.colab.kernel.accessAllowed ? 'block' : 'none';\n",
              "\n",
              "        async function convertToInteractive(key) {\n",
              "          const element = document.querySelector('#df-026301d1-aec7-4a3e-8b92-d78b07e1296b');\n",
              "          const dataTable =\n",
              "            await google.colab.kernel.invokeFunction('convertToInteractive',\n",
              "                                                     [key], {});\n",
              "          if (!dataTable) return;\n",
              "\n",
              "          const docLinkHtml = 'Like what you see? Visit the ' +\n",
              "            '<a target=\"_blank\" href=https://colab.research.google.com/notebooks/data_table.ipynb>data table notebook</a>'\n",
              "            + ' to learn more about interactive tables.';\n",
              "          element.innerHTML = '';\n",
              "          dataTable['output_type'] = 'display_data';\n",
              "          await google.colab.output.renderOutput(dataTable, element);\n",
              "          const docLink = document.createElement('div');\n",
              "          docLink.innerHTML = docLinkHtml;\n",
              "          element.appendChild(docLink);\n",
              "        }\n",
              "      </script>\n",
              "    </div>\n",
              "  </div>\n",
              "  "
            ]
          },
          "metadata": {},
          "execution_count": 5
        }
      ]
    },
    {
      "cell_type": "code",
      "source": [
        "\"Minimum and Maximum Age range:\", data.Age.min(), data.Age.max()"
      ],
      "metadata": {
        "colab": {
          "base_uri": "https://localhost:8080/"
        },
        "id": "iBchDs40aGvX",
        "outputId": "0b57b4a6-9e83-4463-8c89-3f1003f0ab2f"
      },
      "execution_count": 6,
      "outputs": [
        {
          "output_type": "execute_result",
          "data": {
            "text/plain": [
              "('Minimum and Maximum Age range:', 4, 90)"
            ]
          },
          "metadata": {},
          "execution_count": 6
        }
      ]
    },
    {
      "cell_type": "code",
      "source": [
        "data.Gender.value_counts().plot(kind='bar',title='Female vs Male Ratio')"
      ],
      "metadata": {
        "colab": {
          "base_uri": "https://localhost:8080/",
          "height": 505
        },
        "id": "33it7XGn-uJH",
        "outputId": "21149063-b116-4dcb-f4fd-08d3722c1964"
      },
      "execution_count": 7,
      "outputs": [
        {
          "output_type": "execute_result",
          "data": {
            "text/plain": [
              "<Axes: title={'center': 'Female vs Male Ratio'}>"
            ]
          },
          "metadata": {},
          "execution_count": 7
        },
        {
          "output_type": "display_data",
          "data": {
            "text/plain": [
              "<Figure size 640x480 with 1 Axes>"
            ],
            "image/png": "[encoded data removed]"
          },
          "metadata": {}
        }
      ]
    },
    {
      "cell_type": "code",
      "source": [
        "data[data.Gender=='Male'].Label.value_counts().plot(kind='bar',title='Male Liver Disease Ratio')"
      ],
      "metadata": {
        "colab": {
          "base_uri": "https://localhost:8080/",
          "height": 464
        },
        "id": "trzG4G4y-1g5",
        "outputId": "6c36804e-0b6f-44ac-94bb-128a5538ed1e"
      },
      "execution_count": 8,
      "outputs": [
        {
          "output_type": "execute_result",
          "data": {
            "text/plain": [
              "<Axes: title={'center': 'Male Liver Disease Ratio'}>"
            ]
          },
          "metadata": {},
          "execution_count": 8
        },
        {
          "output_type": "display_data",
          "data": {
            "text/plain": [
              "<Figure size 640x480 with 1 Axes>"
            ],
            "image/png": "[encoded data removed]"
          },
          "metadata": {}
        }
      ]
    },
    {
      "cell_type": "code",
      "source": [
        "data[data.Gender=='Female'].Label.value_counts().plot(kind='bar',title='Female Liver Disease Ratio')"
      ],
      "metadata": {
        "colab": {
          "base_uri": "https://localhost:8080/",
          "height": 464
        },
        "id": "T23jNM2a_AFT",
        "outputId": "d924de8e-4235-4974-9043-0055760ca60d"
      },
      "execution_count": 9,
      "outputs": [
        {
          "output_type": "execute_result",
          "data": {
            "text/plain": [
              "<Axes: title={'center': 'Female Liver Disease Ratio'}>"
            ]
          },
          "metadata": {},
          "execution_count": 9
        },
        {
          "output_type": "display_data",
          "data": {
            "text/plain": [
              "<Figure size 640x480 with 1 Axes>"
            ],
            "image/png": "[encoded data removed]"
          },
          "metadata": {}
        }
      ]
    },
    {
      "cell_type": "markdown",
      "source": [
        "### Data Cleaning\n",
        "In this section we remove null values from data."
      ],
      "metadata": {
        "id": "7mq_ATlS-qup"
      }
    },
    {
      "cell_type": "markdown",
      "source": [
        "#### Column wise null values"
      ],
      "metadata": {
        "id": "UCjk1ut7_wCH"
      }
    },
    {
      "cell_type": "code",
      "source": [
        "data.isna().sum()"
      ],
      "metadata": {
        "colab": {
          "base_uri": "https://localhost:8080/"
        },
        "id": "PmFHSOI3aYpH",
        "outputId": "b9ddbd2c-0c9d-4417-cd02-35b38e47ca40"
      },
      "execution_count": 10,
      "outputs": [
        {
          "output_type": "execute_result",
          "data": {
            "text/plain": [
              "Age       0\n",
              "Gender    0\n",
              "c1        0\n",
              "c2        0\n",
              "c3        0\n",
              "c4        0\n",
              "c5        0\n",
              "c6        0\n",
              "c7        0\n",
              "c8        4\n",
              "Label     0\n",
              "dtype: int64"
            ]
          },
          "metadata": {},
          "execution_count": 10
        }
      ]
    },
    {
      "cell_type": "markdown",
      "source": [
        "#### Removing Null Values \n",
        "We impute mean value in replacement of null values"
      ],
      "metadata": {
        "id": "yns0ff6e_znv"
      }
    },
    {
      "cell_type": "code",
      "source": [
        "data['c8'] = data['c8'].fillna(data['c8'].mean())"
      ],
      "metadata": {
        "id": "F_2iaOwWa982"
      },
      "execution_count": 11,
      "outputs": []
    },
    {
      "cell_type": "markdown",
      "source": [
        "Now we can see there are no null values "
      ],
      "metadata": {
        "id": "ERV1HEwA_842"
      }
    },
    {
      "cell_type": "code",
      "source": [
        "data.isna().sum()"
      ],
      "metadata": {
        "colab": {
          "base_uri": "https://localhost:8080/"
        },
        "id": "pXtswnfsbFaT",
        "outputId": "3860a2f0-c69e-4287-c0dc-bccdfe9d4b72"
      },
      "execution_count": 12,
      "outputs": [
        {
          "output_type": "execute_result",
          "data": {
            "text/plain": [
              "Age       0\n",
              "Gender    0\n",
              "c1        0\n",
              "c2        0\n",
              "c3        0\n",
              "c4        0\n",
              "c5        0\n",
              "c6        0\n",
              "c7        0\n",
              "c8        0\n",
              "Label     0\n",
              "dtype: int64"
            ]
          },
          "metadata": {},
          "execution_count": 12
        }
      ]
    },
    {
      "cell_type": "markdown",
      "source": [
        "### Data Encoding \n",
        "Here we encode categorical attribues in data such as Gender and Label. We assign each category a unique id so that we can input the data to the model in required format."
      ],
      "metadata": {
        "id": "YUBbxdVKAB9E"
      }
    },
    {
      "cell_type": "code",
      "source": [
        "data['Gender'] = data['Gender'].astype('category').cat.codes\n",
        "data['Label'] = data['Label'].astype('category').cat.codes\n",
        "data.head()"
      ],
      "metadata": {
        "colab": {
          "base_uri": "https://localhost:8080/",
          "height": 206
        },
        "id": "p0nwUgqhYOba",
        "outputId": "b6dbac5f-38d6-4f8a-c8fa-faa7420bda33"
      },
      "execution_count": 13,
      "outputs": [
        {
          "output_type": "execute_result",
          "data": {
            "text/plain": [
              "   Age  Gender    c1   c2   c3  c4   c5   c6   c7    c8  Label\n",
              "0   65       0   0.7  0.1  187  16   18  6.8  3.3  0.90      0\n",
              "1   62       1  10.9  5.5  699  64  100  7.5  3.2  0.74      0\n",
              "2   62       1   7.3  4.1  490  60   68  7.0  3.3  0.89      0\n",
              "3   58       1   1.0  0.4  182  14   20  6.8  3.4  1.00      0\n",
              "4   72       1   3.9  2.0  195  27   59  7.3  2.4  0.40      0"
            ],
            "text/html": [
              "\n",
              "  <div id=\"df-49b63f18-e4a0-4044-809d-7c52266386dc\">\n",
              "    <div class=\"colab-df-container\">\n",
              "      <div>\n",
              "<style scoped>\n",
              "    .dataframe tbody tr th:only-of-type {\n",
              "        vertical-align: middle;\n",
              "    }\n",
              "\n",
              "    .dataframe tbody tr th {\n",
              "        vertical-align: top;\n",
              "    }\n",
              "\n",
              "    .dataframe thead th {\n",
              "        text-align: right;\n",
              "    }\n",
              "</style>\n",
              "<table border=\"1\" class=\"dataframe\">\n",
              "  <thead>\n",
              "    <tr style=\"text-align: right;\">\n",
              "      <th></th>\n",
              "      <th>Age</th>\n",
              "      <th>Gender</th>\n",
              "      <th>c1</th>\n",
              "      <th>c2</th>\n",
              "      <th>c3</th>\n",
              "      <th>c4</th>\n",
              "      <th>c5</th>\n",
              "      <th>c6</th>\n",
              "      <th>c7</th>\n",
              "      <th>c8</th>\n",
              "      <th>Label</th>\n",
              "    </tr>\n",
              "  </thead>\n",
              "  <tbody>\n",
              "    <tr>\n",
              "      <th>0</th>\n",
              "      <td>65</td>\n",
              "      <td>0</td>\n",
              "      <td>0.7</td>\n",
              "      <td>0.1</td>\n",
              "      <td>187</td>\n",
              "      <td>16</td>\n",
              "      <td>18</td>\n",
              "      <td>6.8</td>\n",
              "      <td>3.3</td>\n",
              "      <td>0.90</td>\n",
              "      <td>0</td>\n",
              "    </tr>\n",
              "    <tr>\n",
              "      <th>1</th>\n",
              "      <td>62</td>\n",
              "      <td>1</td>\n",
              "      <td>10.9</td>\n",
              "      <td>5.5</td>\n",
              "      <td>699</td>\n",
              "      <td>64</td>\n",
              "      <td>100</td>\n",
              "      <td>7.5</td>\n",
              "      <td>3.2</td>\n",
              "      <td>0.74</td>\n",
              "      <td>0</td>\n",
              "    </tr>\n",
              "    <tr>\n",
              "      <th>2</th>\n",
              "      <td>62</td>\n",
              "      <td>1</td>\n",
              "      <td>7.3</td>\n",
              "      <td>4.1</td>\n",
              "      <td>490</td>\n",
              "      <td>60</td>\n",
              "      <td>68</td>\n",
              "      <td>7.0</td>\n",
              "      <td>3.3</td>\n",
              "      <td>0.89</td>\n",
              "      <td>0</td>\n",
              "    </tr>\n",
              "    <tr>\n",
              "      <th>3</th>\n",
              "      <td>58</td>\n",
              "      <td>1</td>\n",
              "      <td>1.0</td>\n",
              "      <td>0.4</td>\n",
              "      <td>182</td>\n",
              "      <td>14</td>\n",
              "      <td>20</td>\n",
              "      <td>6.8</td>\n",
              "      <td>3.4</td>\n",
              "      <td>1.00</td>\n",
              "      <td>0</td>\n",
              "    </tr>\n",
              "    <tr>\n",
              "      <th>4</th>\n",
              "      <td>72</td>\n",
              "      <td>1</td>\n",
              "      <td>3.9</td>\n",
              "      <td>2.0</td>\n",
              "      <td>195</td>\n",
              "      <td>27</td>\n",
              "      <td>59</td>\n",
              "      <td>7.3</td>\n",
              "      <td>2.4</td>\n",
              "      <td>0.40</td>\n",
              "      <td>0</td>\n",
              "    </tr>\n",
              "  </tbody>\n",
              "</table>\n",
              "</div>\n",
              "      <button class=\"colab-df-convert\" onclick=\"convertToInteractive('df-49b63f18-e4a0-4044-809d-7c52266386dc')\"\n",
              "              title=\"Convert this dataframe to an interactive table.\"\n",
              "              style=\"display:none;\">\n",
              "        \n",
              "  <svg xmlns=\"http://www.w3.org/2000/svg\" height=\"24px\"viewBox=\"0 0 24 24\"\n",
              "       width=\"24px\">\n",
              "    <path d=\"M0 0h24v24H0V0z\" fill=\"none\"/>\n",
              "    <path d=\"M18.56 5.44l.94 2.06.94-2.06 2.06-.94-2.06-.94-.94-2.06-.94 2.06-2.06.94zm-11 1L8.5 8.5l.94-2.06 2.06-.94-2.06-.94L8.5 2.5l-.94 2.06-2.06.94zm10 10l.94 2.06.94-2.06 2.06-.94-2.06-.94-.94-2.06-.94 2.06-2.06.94z\"/><path d=\"M17.41 7.96l-1.37-1.37c-.4-.4-.92-.59-1.43-.59-.52 0-1.04.2-1.43.59L10.3 9.45l-7.72 7.72c-.78.78-.78 2.05 0 2.83L4 21.41c.39.39.9.59 1.41.59.51 0 1.02-.2 1.41-.59l7.78-7.78 2.81-2.81c.8-.78.8-2.07 0-2.86zM5.41 20L4 18.59l7.72-7.72 1.47 1.35L5.41 20z\"/>\n",
              "  </svg>\n",
              "      </button>\n",
              "      \n",
              "  <style>\n",
              "    .colab-df-container {\n",
              "      display:flex;\n",
              "      flex-wrap:wrap;\n",
              "      gap: 12px;\n",
              "    }\n",
              "\n",
              "    .colab-df-convert {\n",
              "      background-color: #E8F0FE;\n",
              "      border: none;\n",
              "      border-radius: 50%;\n",
              "      cursor: pointer;\n",
              "      display: none;\n",
              "      fill: #1967D2;\n",
              "      height: 32px;\n",
              "      padding: 0 0 0 0;\n",
              "      width: 32px;\n",
              "    }\n",
              "\n",
              "    .colab-df-convert:hover {\n",
              "      background-color: #E2EBFA;\n",
              "      box-shadow: 0px 1px 2px rgba(60, 64, 67, 0.3), 0px 1px 3px 1px rgba(60, 64, 67, 0.15);\n",
              "      fill: #174EA6;\n",
              "    }\n",
              "\n",
              "    [theme=dark] .colab-df-convert {\n",
              "      background-color: #3B4455;\n",
              "      fill: #D2E3FC;\n",
              "    }\n",
              "\n",
              "    [theme=dark] .colab-df-convert:hover {\n",
              "      background-color: #434B5C;\n",
              "      box-shadow: 0px 1px 3px 1px rgba(0, 0, 0, 0.15);\n",
              "      filter: drop-shadow(0px 1px 2px rgba(0, 0, 0, 0.3));\n",
              "      fill: #FFFFFF;\n",
              "    }\n",
              "  </style>\n",
              "\n",
              "      <script>\n",
              "        const buttonEl =\n",
              "          document.querySelector('#df-49b63f18-e4a0-4044-809d-7c52266386dc button.colab-df-convert');\n",
              "        buttonEl.style.display =\n",
              "          google.colab.kernel.accessAllowed ? 'block' : 'none';\n",
              "\n",
              "        async function convertToInteractive(key) {\n",
              "          const element = document.querySelector('#df-49b63f18-e4a0-4044-809d-7c52266386dc');\n",
              "          const dataTable =\n",
              "            await google.colab.kernel.invokeFunction('convertToInteractive',\n",
              "                                                     [key], {});\n",
              "          if (!dataTable) return;\n",
              "\n",
              "          const docLinkHtml = 'Like what you see? Visit the ' +\n",
              "            '<a target=\"_blank\" href=https://colab.research.google.com/notebooks/data_table.ipynb>data table notebook</a>'\n",
              "            + ' to learn more about interactive tables.';\n",
              "          element.innerHTML = '';\n",
              "          dataTable['output_type'] = 'display_data';\n",
              "          await google.colab.output.renderOutput(dataTable, element);\n",
              "          const docLink = document.createElement('div');\n",
              "          docLink.innerHTML = docLinkHtml;\n",
              "          element.appendChild(docLink);\n",
              "        }\n",
              "      </script>\n",
              "    </div>\n",
              "  </div>\n",
              "  "
            ]
          },
          "metadata": {},
          "execution_count": 13
        }
      ]
    },
    {
      "cell_type": "markdown",
      "source": [
        "### Liver patients vs non-patients"
      ],
      "metadata": {
        "id": "hIPv9VIpAd20"
      }
    },
    {
      "cell_type": "code",
      "source": [
        "pd.DataFrame(data['Label'].value_counts())"
      ],
      "metadata": {
        "colab": {
          "base_uri": "https://localhost:8080/",
          "height": 112
        },
        "id": "KzaFjjZ7UdKI",
        "outputId": "9d6d1f12-c526-4272-f7ba-7e2388a87ea0"
      },
      "execution_count": 14,
      "outputs": [
        {
          "output_type": "execute_result",
          "data": {
            "text/plain": [
              "   Label\n",
              "0    416\n",
              "1    167"
            ],
            "text/html": [
              "\n",
              "  <div id=\"df-41d1e7d3-32ed-4674-983e-fb1210de0202\">\n",
              "    <div class=\"colab-df-container\">\n",
              "      <div>\n",
              "<style scoped>\n",
              "    .dataframe tbody tr th:only-of-type {\n",
              "        vertical-align: middle;\n",
              "    }\n",
              "\n",
              "    .dataframe tbody tr th {\n",
              "        vertical-align: top;\n",
              "    }\n",
              "\n",
              "    .dataframe thead th {\n",
              "        text-align: right;\n",
              "    }\n",
              "</style>\n",
              "<table border=\"1\" class=\"dataframe\">\n",
              "  <thead>\n",
              "    <tr style=\"text-align: right;\">\n",
              "      <th></th>\n",
              "      <th>Label</th>\n",
              "    </tr>\n",
              "  </thead>\n",
              "  <tbody>\n",
              "    <tr>\n",
              "      <th>0</th>\n",
              "      <td>416</td>\n",
              "    </tr>\n",
              "    <tr>\n",
              "      <th>1</th>\n",
              "      <td>167</td>\n",
              "    </tr>\n",
              "  </tbody>\n",
              "</table>\n",
              "</div>\n",
              "      <button class=\"colab-df-convert\" onclick=\"convertToInteractive('df-41d1e7d3-32ed-4674-983e-fb1210de0202')\"\n",
              "              title=\"Convert this dataframe to an interactive table.\"\n",
              "              style=\"display:none;\">\n",
              "        \n",
              "  <svg xmlns=\"http://www.w3.org/2000/svg\" height=\"24px\"viewBox=\"0 0 24 24\"\n",
              "       width=\"24px\">\n",
              "    <path d=\"M0 0h24v24H0V0z\" fill=\"none\"/>\n",
              "    <path d=\"M18.56 5.44l.94 2.06.94-2.06 2.06-.94-2.06-.94-.94-2.06-.94 2.06-2.06.94zm-11 1L8.5 8.5l.94-2.06 2.06-.94-2.06-.94L8.5 2.5l-.94 2.06-2.06.94zm10 10l.94 2.06.94-2.06 2.06-.94-2.06-.94-.94-2.06-.94 2.06-2.06.94z\"/><path d=\"M17.41 7.96l-1.37-1.37c-.4-.4-.92-.59-1.43-.59-.52 0-1.04.2-1.43.59L10.3 9.45l-7.72 7.72c-.78.78-.78 2.05 0 2.83L4 21.41c.39.39.9.59 1.41.59.51 0 1.02-.2 1.41-.59l7.78-7.78 2.81-2.81c.8-.78.8-2.07 0-2.86zM5.41 20L4 18.59l7.72-7.72 1.47 1.35L5.41 20z\"/>\n",
              "  </svg>\n",
              "      </button>\n",
              "      \n",
              "  <style>\n",
              "    .colab-df-container {\n",
              "      display:flex;\n",
              "      flex-wrap:wrap;\n",
              "      gap: 12px;\n",
              "    }\n",
              "\n",
              "    .colab-df-convert {\n",
              "      background-color: #E8F0FE;\n",
              "      border: none;\n",
              "      border-radius: 50%;\n",
              "      cursor: pointer;\n",
              "      display: none;\n",
              "      fill: #1967D2;\n",
              "      height: 32px;\n",
              "      padding: 0 0 0 0;\n",
              "      width: 32px;\n",
              "    }\n",
              "\n",
              "    .colab-df-convert:hover {\n",
              "      background-color: #E2EBFA;\n",
              "      box-shadow: 0px 1px 2px rgba(60, 64, 67, 0.3), 0px 1px 3px 1px rgba(60, 64, 67, 0.15);\n",
              "      fill: #174EA6;\n",
              "    }\n",
              "\n",
              "    [theme=dark] .colab-df-convert {\n",
              "      background-color: #3B4455;\n",
              "      fill: #D2E3FC;\n",
              "    }\n",
              "\n",
              "    [theme=dark] .colab-df-convert:hover {\n",
              "      background-color: #434B5C;\n",
              "      box-shadow: 0px 1px 3px 1px rgba(0, 0, 0, 0.15);\n",
              "      filter: drop-shadow(0px 1px 2px rgba(0, 0, 0, 0.3));\n",
              "      fill: #FFFFFF;\n",
              "    }\n",
              "  </style>\n",
              "\n",
              "      <script>\n",
              "        const buttonEl =\n",
              "          document.querySelector('#df-41d1e7d3-32ed-4674-983e-fb1210de0202 button.colab-df-convert');\n",
              "        buttonEl.style.display =\n",
              "          google.colab.kernel.accessAllowed ? 'block' : 'none';\n",
              "\n",
              "        async function convertToInteractive(key) {\n",
              "          const element = document.querySelector('#df-41d1e7d3-32ed-4674-983e-fb1210de0202');\n",
              "          const dataTable =\n",
              "            await google.colab.kernel.invokeFunction('convertToInteractive',\n",
              "                                                     [key], {});\n",
              "          if (!dataTable) return;\n",
              "\n",
              "          const docLinkHtml = 'Like what you see? Visit the ' +\n",
              "            '<a target=\"_blank\" href=https://colab.research.google.com/notebooks/data_table.ipynb>data table notebook</a>'\n",
              "            + ' to learn more about interactive tables.';\n",
              "          element.innerHTML = '';\n",
              "          dataTable['output_type'] = 'display_data';\n",
              "          await google.colab.output.renderOutput(dataTable, element);\n",
              "          const docLink = document.createElement('div');\n",
              "          docLink.innerHTML = docLinkHtml;\n",
              "          element.appendChild(docLink);\n",
              "        }\n",
              "      </script>\n",
              "    </div>\n",
              "  </div>\n",
              "  "
            ]
          },
          "metadata": {},
          "execution_count": 14
        }
      ]
    },
    {
      "cell_type": "markdown",
      "source": [
        "### Splitting data"
      ],
      "metadata": {
        "id": "i9RNwd5rAive"
      }
    },
    {
      "cell_type": "code",
      "source": [
        "from sklearn.model_selection import train_test_split\n",
        "train_data, test_data = train_test_split(data,test_size=0.3,stratify=data['Label'])\n",
        "\n",
        "X_train = train_data.drop(columns=['Label'])\n",
        "y_train = train_data.Label\n",
        "X_test = test_data.drop(columns=['Label'])\n",
        "y_test = test_data.Label\n",
        "\n",
        "X_train.shape, X_test.shape"
      ],
      "metadata": {
        "colab": {
          "base_uri": "https://localhost:8080/"
        },
        "id": "dY9g7m8QWEMa",
        "outputId": "7543bf7e-0a0b-452a-8f6a-9666f7c868b4"
      },
      "execution_count": 21,
      "outputs": [
        {
          "output_type": "execute_result",
          "data": {
            "text/plain": [
              "((408, 10), (175, 10))"
            ]
          },
          "metadata": {},
          "execution_count": 21
        }
      ]
    },
    {
      "cell_type": "markdown",
      "source": [
        "### Training Genatic Algorithm"
      ],
      "metadata": {
        "id": "FqxtaSRDCNLH"
      }
    },
    {
      "cell_type": "code",
      "source": [
        "import warnings\n",
        "warnings.filterwarnings('ignore')\n",
        "\n",
        "from sklearn import datasets, linear_model\n",
        "from genetic_selection import GeneticSelectionCV\n",
        "\n",
        "estimators = linear_model.LogisticRegression(solver=\"liblinear\", multi_class=\"ovr\")\n",
        "\n",
        "selectors = GeneticSelectionCV(estimators,\n",
        "                              cv=6,\n",
        "                              verbose=2,\n",
        "                              scoring=\"accuracy\",\n",
        "                              max_features=6,\n",
        "                              n_population=50,\n",
        "                              crossover_proba=0.6,\n",
        "                              mutation_proba=0.01,\n",
        "                              n_generations=100,\n",
        "                              crossover_independent_proba=0.6,\n",
        "                              mutation_independent_proba=0.06,\n",
        "                              tournament_size=4,\n",
        "                              n_gen_no_change=20,\n",
        "                              caching=True,\n",
        "                              n_jobs=-2)\n",
        "selectors = selectors.fit(X_train, y_train)\n",
        "\n",
        "\n",
        "from sklearn.metrics import accuracy_score, precision_score, recall_score, f1_score, roc_auc_score\n",
        "y_pred = selectors.predict(X_test)\n",
        "y_true = y_test\n",
        "# Compute accuracy\n",
        "accuracy = accuracy_score(y_true, y_pred)\n",
        "print(\"Accuracy:\", accuracy)\n",
        "\n",
        "# Compute precision\n",
        "precision = precision_score(y_true, y_pred)\n",
        "print(\"Precision:\", precision)\n",
        "\n",
        "# Compute recall\n",
        "recall = recall_score(y_true, y_pred)\n",
        "print(\"Recall:\", recall)\n",
        "\n",
        "# Compute F1 score\n",
        "f1 = f1_score(y_true, y_pred)\n",
        "print(\"F1 score:\", f1)\n",
        "\n",
        "# Compute AUROC\n",
        "auroc = roc_auc_score(y_true, y_pred)\n",
        "print(\"AUROC:\", auroc)\n"
      ],
      "metadata": {
        "colab": {
          "base_uri": "https://localhost:8080/"
        },
        "id": "QDg0pH3Lyy-g",
        "outputId": "82ccb6b4-7237-47ee-912b-8205d4dba1e3"
      },
      "execution_count": 16,
      "outputs": [
        {
          "output_type": "stream",
          "name": "stdout",
          "text": [
            "Selecting features with genetic algorithm.\n",
            "gen\tnevals\tavg                            \tstd                            \tmin                            \tmax                            \n",
            "0  \t50    \t[ 0.713824  3.56      0.019443]\t[ 0.007852  1.651181  0.01141 ]\t[ 0.693627  1.        0.005481]\t[ 0.732843  6.        0.049507]\n",
            "1  \t28    \t[-399.306765    4.62      400.023291]\t[ 1959.7333       1.440694  1959.58704 ]\t[-10000.            1.            0.006932]\t[     0.735294      8.        10000.      ]\n",
            "2  \t22    \t[-399.300637    5.3       400.025581]\t[ 1959.734551     0.921954  1959.586572]\t[-10000.            3.            0.007353]\t[     0.735294      7.        10000.      ]\n",
            "3  \t27    \t[-799.328725    5.64      800.024655]\t[ 2713.129941     0.842852  2712.924723]\t[-10000.            4.            0.006932]\t[     0.735294      8.        10000.      ]\n",
            "4  \t18    \t[-999.341029    5.7      1000.021823]\t[ 3000.219657     0.9       2999.992726]\t[-10000.            3.            0.016981]\t[     0.735294      8.        10000.      ]\n",
            "5  \t31    \t[-399.295784    5.54      400.021903]\t[ 1959.735542     0.669627  1959.587323]\t[-10000.            4.            0.016981]\t[     0.735294      7.        10000.      ]\n",
            "6  \t33    \t[-199.280196    5.26      200.024417]\t[ 1400.102829     0.52192   1399.996512]\t[-10000.            4.            0.016981]\t[     0.735294      7.        10000.      ]\n",
            "7  \t26    \t[ 0.735294  5.02      0.026652]      \t[ 0.        0.14      0.001382]         \t[ 0.735294  5.        0.016981]            \t[ 0.735294  6.        0.026849]            \n",
            "8  \t26    \t[ 0.735294  5.        0.026849]      \t[ 0.  0.  0.]                           \t[ 0.735294  5.        0.026849]            \t[ 0.735294  5.        0.026849]            \n",
            "9  \t26    \t[ 0.735294  5.        0.026849]      \t[ 0.  0.  0.]                           \t[ 0.735294  5.        0.026849]            \t[ 0.735294  5.        0.026849]            \n",
            "10 \t28    \t[ 0.735294  5.        0.026849]      \t[ 0.  0.  0.]                           \t[ 0.735294  5.        0.026849]            \t[ 0.735294  5.        0.026849]            \n",
            "11 \t30    \t[ 0.735294  5.        0.026849]      \t[ 0.  0.  0.]                           \t[ 0.735294  5.        0.026849]            \t[ 0.735294  5.        0.026849]            \n",
            "12 \t38    \t[ 0.735294  5.        0.026849]      \t[ 0.  0.  0.]                           \t[ 0.735294  5.        0.026849]            \t[ 0.735294  5.        0.026849]            \n",
            "13 \t24    \t[ 0.735294  5.        0.026849]      \t[ 0.  0.  0.]                           \t[ 0.735294  5.        0.026849]            \t[ 0.735294  5.        0.026849]            \n",
            "14 \t33    \t[ 0.735196  4.98      0.027121]      \t[ 0.000686  0.14      0.0019  ]         \t[ 0.730392  4.        0.026849]            \t[ 0.735294  5.        0.040423]            \n",
            "15 \t28    \t[ 0.735294  5.        0.026849]      \t[ 0.  0.  0.]                           \t[ 0.735294  5.        0.026849]            \t[ 0.735294  5.        0.026849]            \n",
            "16 \t24    \t[ 0.735294  5.        0.026849]      \t[ 0.  0.  0.]                           \t[ 0.735294  5.        0.026849]            \t[ 0.735294  5.        0.026849]            \n",
            "17 \t29    \t[ 0.735294  5.        0.026849]      \t[ 0.  0.  0.]                           \t[ 0.735294  5.        0.026849]            \t[ 0.735294  5.        0.026849]            \n",
            "18 \t30    \t[ 0.735294  5.        0.026849]      \t[ 0.  0.  0.]                           \t[ 0.735294  5.        0.026849]            \t[ 0.735294  5.        0.026849]            \n",
            "19 \t28    \t[ 0.735294  5.        0.026849]      \t[ 0.  0.  0.]                           \t[ 0.735294  5.        0.026849]            \t[ 0.735294  5.        0.026849]            \n",
            "20 \t28    \t[ 0.735294  5.        0.026849]      \t[ 0.  0.  0.]                           \t[ 0.735294  5.        0.026849]            \t[ 0.735294  5.        0.026849]            \n",
            "21 \t24    \t[ 0.735294  5.        0.026849]      \t[ 0.  0.  0.]                           \t[ 0.735294  5.        0.026849]            \t[ 0.735294  5.        0.026849]            \n",
            "22 \t32    \t[ 0.735343  5.02      0.026833]      \t[ 0.000343  0.14      0.000111]         \t[ 0.735294  5.        0.026054]            \t[ 0.737745  6.        0.026849]            \n",
            "23 \t38    \t[ 0.735588  5.12      0.026754]      \t[ 0.000796  0.324962  0.000258]         \t[ 0.735294  5.        0.026054]            \t[ 0.737745  6.        0.026849]            \n",
            "24 \t30    \t[ 0.736225  5.38      0.026547]      \t[ 0.00119   0.485386  0.000386]         \t[ 0.735294  5.        0.026054]            \t[ 0.737745  6.        0.026849]            \n",
            "25 \t36    \t[ 0.7375    5.9       0.026134]      \t[ 0.000735  0.3       0.000238]         \t[ 0.735294  5.        0.026054]            \t[ 0.737745  6.        0.026849]            \n",
            "26 \t32    \t[ 0.737745  6.        0.026054]      \t[ 0.  0.  0.]                           \t[ 0.737745  6.        0.026054]            \t[ 0.737745  6.        0.026054]            \n",
            "27 \t40    \t[ 0.737745  6.        0.026054]      \t[ 0.  0.  0.]                           \t[ 0.737745  6.        0.026054]            \t[ 0.737745  6.        0.026054]            \n",
            "28 \t22    \t[-199.27701     6.04      200.025533]\t[ 1400.103284     0.28      1399.996352]\t[-10000.            6.            0.026054]\t[     0.737745      8.        10000.      ]\n",
            "29 \t35    \t[ 0.737745  6.        0.026054]      \t[ 0.  0.  0.]                           \t[ 0.737745  6.        0.026054]            \t[ 0.737745  6.        0.026054]            \n",
            "30 \t22    \t[ 0.737696  5.98      0.02607 ]      \t[ 0.000343  0.14      0.000111]         \t[ 0.735294  5.        0.026054]            \t[ 0.737745  6.        0.026849]            \n",
            "31 \t30    \t[ 0.737745  6.        0.026054]      \t[ 0.  0.  0.]                           \t[ 0.737745  6.        0.026054]            \t[ 0.737745  6.        0.026054]            \n",
            "32 \t34    \t[ 0.737745  6.        0.026054]      \t[ 0.  0.  0.]                           \t[ 0.737745  6.        0.026054]            \t[ 0.737745  6.        0.026054]            \n",
            "33 \t38    \t[ 0.737745  6.        0.026054]      \t[ 0.  0.  0.]                           \t[ 0.737745  6.        0.026054]            \t[ 0.737745  6.        0.026054]            \n",
            "34 \t36    \t[ 0.737745  6.        0.026054]      \t[ 0.  0.  0.]                           \t[ 0.737745  6.        0.026054]            \t[ 0.737745  6.        0.026054]            \n",
            "35 \t25    \t[ 0.737745  6.        0.026054]      \t[ 0.  0.  0.]                           \t[ 0.737745  6.        0.026054]            \t[ 0.737745  6.        0.026054]            \n",
            "36 \t30    \t[ 0.737745  6.        0.026054]      \t[ 0.  0.  0.]                           \t[ 0.737745  6.        0.026054]            \t[ 0.737745  6.        0.026054]            \n",
            "37 \t22    \t[ 0.737745  6.        0.026054]      \t[ 0.  0.  0.]                           \t[ 0.737745  6.        0.026054]            \t[ 0.737745  6.        0.026054]            \n",
            "38 \t34    \t[ 0.737745  6.        0.026054]      \t[ 0.  0.  0.]                           \t[ 0.737745  6.        0.026054]            \t[ 0.737745  6.        0.026054]            \n",
            "39 \t33    \t[ 0.737745  6.        0.026054]      \t[ 0.  0.  0.]                           \t[ 0.737745  6.        0.026054]            \t[ 0.737745  6.        0.026054]            \n",
            "40 \t34    \t[ 0.737745  6.        0.026054]      \t[ 0.  0.  0.]                           \t[ 0.737745  6.        0.026054]            \t[ 0.737745  6.        0.026054]            \n",
            "41 \t33    \t[ 0.737745  6.        0.026054]      \t[ 0.  0.  0.]                           \t[ 0.737745  6.        0.026054]            \t[ 0.737745  6.        0.026054]            \n",
            "42 \t34    \t[ 0.737745  6.        0.026054]      \t[ 0.  0.  0.]                           \t[ 0.737745  6.        0.026054]            \t[ 0.737745  6.        0.026054]            \n",
            "Accuracy: 0.7085714285714285\n",
            "Precision: 0.47368421052631576\n",
            "Recall: 0.18\n",
            "F1 score: 0.2608695652173913\n",
            "AUROC: 0.5499999999999999\n"
          ]
        }
      ]
    },
    {
      "cell_type": "markdown",
      "source": [
        "### Training Particle Swarm Optimization (PSO)"
      ],
      "metadata": {
        "id": "MPzs0E9g4RAT"
      }
    },
    {
      "cell_type": "code",
      "source": [
        "from pyswarm import pso\n",
        "\n",
        "# Define the objective function for PSO optimization\n",
        "def objective_function(params):\n",
        "    c, tol = params\n",
        "    clf = linear_model.LogisticRegression(C=c, tol=tol, solver='liblinear')\n",
        "    clf.fit(X_train, y_train)\n",
        "    score = clf.score(X_test, y_test)\n",
        "    return -score  # maximize accuracy\n",
        "\n",
        "# Set the lower and upper bounds for the parameters\n",
        "lb = [0.1, 1e-5]\n",
        "ub = [100, 1e-2]\n",
        "\n",
        "# Perform PSO optimization\n",
        "xopt, fopt = pso(objective_function, lb, ub, swarmsize=10, maxiter=100)\n",
        "\n",
        "# Print the optimized parameters and accuracy\n",
        "print(\"Optimized parameters:\", xopt)\n",
        "print(\"Optimized accuracy:\", -fopt)\n",
        "\n",
        "# Define the logistic regression model with optimized parameters\n",
        "c_opt, tol_opt = xopt\n",
        "clf = linear_model.LogisticRegression(C=c_opt, tol=tol_opt, solver='liblinear')\n",
        "\n",
        "# Fit the model on the training data\n",
        "clf.fit(X_train, y_train)\n",
        "\n",
        "# Make predictions on the testing data\n",
        "y_pred = clf.predict(X_test)\n",
        "y_prob = clf.predict_proba(X_test)[:, 1]\n",
        "\n",
        "# Compute the evaluation scores\n",
        "accuracy = accuracy_score(y_test, y_pred)\n",
        "precision = precision_score(y_test, y_pred)\n",
        "recall = recall_score(y_test, y_pred)\n",
        "f1 = f1_score(y_test, y_pred)\n",
        "auroc = roc_auc_score(y_test, y_prob)\n",
        "\n",
        "# Print the evaluation scores\n",
        "print(\"Accuracy:\", accuracy)\n",
        "print(\"Precision:\", precision)\n",
        "print(\"Recall:\", recall)\n",
        "print(\"F1 score:\", f1)\n",
        "print(\"AUROC:\", auroc)"
      ],
      "metadata": {
        "colab": {
          "base_uri": "https://localhost:8080/"
        },
        "id": "SqojoJmQ3ELK",
        "outputId": "4c55c67b-8816-4857-eb02-1533bb4ebf11"
      },
      "execution_count": 23,
      "outputs": [
        {
          "output_type": "stream",
          "name": "stdout",
          "text": [
            "Stopping search: maximum iterations reached --> 100\n",
            "Optimized parameters: [0.1        0.00559804]\n",
            "Optimized accuracy: 0.7428571428571429\n",
            "Accuracy: 0.7428571428571429\n",
            "Precision: 0.6666666666666666\n",
            "Recall: 0.2\n",
            "F1 score: 0.30769230769230765\n",
            "AUROC: 0.76352\n"
          ]
        }
      ]
    },
    {
      "cell_type": "markdown",
      "source": [
        "### Training Differential Evolution"
      ],
      "metadata": {
        "id": "GFG_slEkCoYq"
      }
    },
    {
      "cell_type": "code",
      "source": [
        "from scipy.optimize import differential_evolution\n",
        "\n",
        "# Define the objective function for Differential Evolution optimization\n",
        "def objective_function(params):\n",
        "    C = params[0]\n",
        "    tol = params[1]\n",
        "    max_iter = int(params[2])\n",
        "    clf = linear_model.LogisticRegression(C=C, tol=tol, max_iter=max_iter)\n",
        "    clf.fit(X_train, y_train)\n",
        "    y_pred = clf.predict(X_test)\n",
        "    return -accuracy_score(y_test, y_pred)\n",
        "\n",
        "# Define the parameter bounds for Differential Evolution\n",
        "bounds = [(0.001, 100), (1e-6, 1), (10, 1000)]\n",
        "\n",
        "# Perform Differential Evolution optimization\n",
        "result = differential_evolution(objective_function, bounds, seed=0)\n",
        "\n",
        "# Extract the best parameters and train a final logistic regression model\n",
        "best_params = result.x\n",
        "C = best_params[0]\n",
        "tol = best_params[1]\n",
        "max_iter = int(best_params[2])\n",
        "clf = linear_model.LogisticRegression(C=C, tol=tol, max_iter=max_iter)\n",
        "clf.fit(X_train, y_train)\n",
        "\n",
        "# Make predictions on the testing data\n",
        "y_pred = clf.predict(X_test)\n",
        "y_prob = clf.predict_proba(X_test)[:, 1]\n",
        "\n",
        "# Compute the evaluation scores\n",
        "accuracy = accuracy_score(y_test, y_pred)\n",
        "precision = precision_score(y_test, y_pred)\n",
        "recall = recall_score(y_test, y_pred)\n",
        "f1 = f1_score(y_test, y_pred)\n",
        "auroc = roc_auc_score(y_test, y_prob)\n",
        "\n",
        "# Print the evaluation scores\n",
        "print(\"Accuracy:\", accuracy)\n",
        "print(\"Precision:\", precision)\n",
        "print(\"Recall:\", recall)\n",
        "print(\"F1 score:\", f1)\n",
        "print(\"AUROC:\", auroc)"
      ],
      "metadata": {
        "colab": {
          "base_uri": "https://localhost:8080/"
        },
        "id": "D-FMgWIK5YqT",
        "outputId": "9a26ab6b-0d71-4582-fcef-b06105246974"
      },
      "execution_count": 18,
      "outputs": [
        {
          "output_type": "stream",
          "name": "stdout",
          "text": [
            "Accuracy: 0.7485714285714286\n",
            "Precision: 0.6363636363636364\n",
            "Recall: 0.28\n",
            "F1 score: 0.3888888888888889\n",
            "AUROC: 0.7163200000000001\n"
          ]
        }
      ]
    },
    {
      "cell_type": "markdown",
      "source": [
        "### Traning Simulated Annealing "
      ],
      "metadata": {
        "id": "UtII8BahCvw1"
      }
    },
    {
      "cell_type": "code",
      "source": [
        "import numpy as np\n",
        "\n",
        "# Define the objective function for Simulated Annealing optimization\n",
        "def objective_function(params, X_train, y_train, X_test, y_test):\n",
        "    C = params[0]\n",
        "    tol = params[1]\n",
        "    \n",
        "    max_iter = int(params[2])\n",
        "    if tol >= 0 and C >= 0 and max_iter >= 0: \n",
        "      clf = linear_model.LogisticRegression(C=C, tol=tol, max_iter=max_iter)\n",
        "      clf.fit(X_train, y_train)\n",
        "      y_pred = clf.predict(X_test)\n",
        "      return -accuracy_score(y_test, y_pred)\n",
        "\n",
        "# Define the initial temperature and cooling rate\n",
        "T0 = 10\n",
        "alpha = 0.95\n",
        "\n",
        "# Define the initial solution\n",
        "x0 = np.array([1, 1e-4, 100])\n",
        "\n",
        "# Define the step sizes for each parameter\n",
        "step_sizes = np.array([0.1, 1e-5, 10])\n",
        "\n",
        "# Define the number of iterations and maximum number of rejections\n",
        "n_iter = 1000\n",
        "max_reject = 50\n",
        "\n",
        "\n",
        "# Initialize the current solution and objective function value\n",
        "x_current = x0\n",
        "f_current = objective_function(x_current, X_train, y_train, X_test, y_test)\n",
        "\n",
        "# Initialize the best solution and objective function value\n",
        "x_best = x_current\n",
        "f_best = f_current\n",
        "\n",
        "# Iterate until the maximum number of iterations is reached\n",
        "for i in range(n_iter):\n",
        "    # Generate a new candidate solution\n",
        "    x_candidate = x_current + step_sizes * np.random.randn(len(x_current))\n",
        "    \n",
        "    # Calculate the objective function value for the candidate solution\n",
        "    f_candidate = objective_function(x_candidate, X_train, y_train, X_test, y_test)\n",
        "    \n",
        "    # Calculate the acceptance probability\n",
        "    delta_f = f_candidate - f_current\n",
        "    T = T0 * alpha ** i\n",
        "    p_accept = np.exp(-delta_f / T)\n",
        "    \n",
        "    # Decide whether to accept or reject the candidate solution\n",
        "    if np.random.rand() < p_accept:\n",
        "        x_current = x_candidate\n",
        "        f_current = f_candidate\n",
        "        \n",
        "        # Update the best solution if necessary\n",
        "        if f_current < f_best:\n",
        "            x_best = x_current\n",
        "            f_best = f_current\n",
        "    else:\n",
        "        # Reject the candidate solution and increment the rejection counter\n",
        "        max_reject -= 1\n",
        "        \n",
        "        # Terminate the algorithm if the maximum number of rejections is reached\n",
        "        if max_reject == 0:\n",
        "            break\n",
        "\n",
        "# Extract the best parameters and train a final logistic regression model\n",
        "best_params = x_best\n",
        "C = best_params[0]\n",
        "tol = best_params[1]\n",
        "max_iter = int(best_params[2])\n",
        "clf = linear_model.LogisticRegression(C=C, tol=tol, max_iter=max_iter)\n",
        "clf.fit(X_train, y_train)\n",
        "\n",
        "# Make predictions on the testing data\n",
        "y_pred = clf.predict(X_test)\n",
        "y_prob = clf.predict_proba(X_test)[:, 1]\n",
        "\n",
        "# Compute the evaluation scores\n",
        "accuracy = accuracy_score(y_test, y_pred)\n",
        "precision = precision_score(y_test, y_pred)\n",
        "recall = recall_score(y_test, y_pred)\n",
        "f1 = f1_score(y_test, y_pred)\n",
        "auroc = roc_auc_score(y_test, y_prob)\n",
        "\n",
        "# Print the evaluation scores\n",
        "print(\"Accuracy:\", accuracy)\n",
        "print(\"Precision:\", precision)\n",
        "print(\"Recall:\", recall)\n",
        "print(\"F1 score:\", f1)\n",
        "print(\"AUROC:\", auroc)"
      ],
      "metadata": {
        "colab": {
          "base_uri": "https://localhost:8080/"
        },
        "id": "49qKL5NV5u4K",
        "outputId": "f9b2b7ee-80c0-4a14-cf50-d983b832f577"
      },
      "execution_count": 29,
      "outputs": [
        {
          "output_type": "stream",
          "name": "stdout",
          "text": [
            "Accuracy: 0.7371428571428571\n",
            "Precision: 0.625\n",
            "Recall: 0.2\n",
            "F1 score: 0.30303030303030304\n",
            "AUROC: 0.77232\n"
          ]
        }
      ]
    },
    {
      "cell_type": "code",
      "source": [],
      "metadata": {
        "id": "9SxL-8bZHN4N"
      },
      "execution_count": null,
      "outputs": []
    }
  ]
}